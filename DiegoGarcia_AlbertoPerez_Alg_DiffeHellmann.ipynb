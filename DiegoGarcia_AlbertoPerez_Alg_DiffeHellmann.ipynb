{
 "cells": [
  {
   "cell_type": "code",
   "execution_count": 20,
   "id": "e4ec94fd",
   "metadata": {},
   "outputs": [],
   "source": [
    "import random, math\n",
    "\n",
    "def es_primo(numero):\n",
    "  \"\"\"\n",
    "  Verifica si un número entero es primo.\n",
    "  True si el número es primo, False de lo contrario.\n",
    "  \"\"\"\n",
    "  if not isinstance(numero, int):\n",
    "      raise TypeError(\"El input debe ser un número entero.\")\n",
    "  if numero <= 1:\n",
    "    return False\n",
    "  if numero <= 3:\n",
    "      return True # 2 y 3 son primos\n",
    "  if numero % 2 == 0 or numero % 3 == 0:\n",
    "      return False # Eliminar múltiplos de 2 y 3\n",
    "  # Solo necesitamos comprobar divisores de la forma 6k ± 1 hasta sqrt(n)\n",
    "  i = 5\n",
    "  while i * i <= numero:\n",
    "    if numero % i == 0 or numero % (i + 2) == 0:\n",
    "      return False\n",
    "    i += 6\n",
    "  return True\n",
    "\n",
    "def genera_un_primo_aleatorio(max_val, min_val=1, intentos_max=10000):\n",
    "    \"\"\"\n",
    "    Función auxiliar para generar un único primo aleatorio en el rango [min_val, max_val).\n",
    "    \"\"\"\n",
    "    if min_val >= max_val:\n",
    "        raise ValueError(\"El valor mínimo debe ser estrictamente menor que el máximo.\")\n",
    "\n",
    "    for _ in range(intentos_max):\n",
    "        candidato = random.randrange(min_val, max_val)\n",
    "        if es_primo(candidato):\n",
    "            return candidato\n",
    "\n",
    "    # Si llegamos aquí, no se encontró un primo en los intentos dados\n",
    "    raise ValueError(f\"No se pudo encontrar un primo en el rango [{min_val}, {max_val}) \"\n",
    "                     f\"después de {intentos_max} intentos.\")\n"
   ]
  },
  {
   "cell_type": "markdown",
   "id": "cc0c473b",
   "metadata": {},
   "source": [
    "El codigo de arriba permite crear un numero primo aleatorio dado un limite superior, y se puede modificar el inferior y los intentos, en caso de que el numero a generar sea muy grande."
   ]
  },
  {
   "cell_type": "code",
   "execution_count": 21,
   "id": "e287800a",
   "metadata": {},
   "outputs": [],
   "source": [
    "def exponencia_modular(base, expo, mod):\n",
    "    if not isinstance(base, int) or not isinstance(expo, int) or not isinstance(mod, int):\n",
    "        raise TypeError(\"Las entradas deben ser int\")\n",
    "    if expo < 0:\n",
    "        raise ValueError(\"El exponente no puede ser negativo para este algoritmo\")\n",
    "    if mod <= 0:\n",
    "        raise ValueError(\"El módulo debe ser un positivo\")\n",
    "\n",
    "    i = expo  \n",
    "    x = base % mod \n",
    "    r = 1  \n",
    "\n",
    "    while i > 0:\n",
    "        if i % 2 != 0:\n",
    "            r = (r * x) % mod \n",
    "            \n",
    "        x = (x * x) % mod\n",
    "        i = i // 2 \n",
    "\n",
    "    return r"
   ]
  },
  {
   "cell_type": "markdown",
   "id": "25f5249b",
   "metadata": {},
   "source": [
    "Implementacion de la version iterativa mejorada de las diapositivas (diapo 37)"
   ]
  },
  {
   "cell_type": "code",
   "execution_count": 22,
   "id": "ff4fb546",
   "metadata": {},
   "outputs": [],
   "source": [
    "def diffie_hellman():\n",
    "    p_primo = genera_un_primo_aleatorio(1000000000)\n",
    "\n",
    "    n_primo = genera_un_primo_aleatorio(p_primo)\n",
    "    print(f\"El valor de p = {p_primo} \\nEl valor de la base = {n_primo}\")\n",
    "\n",
    "    clave_privada_Alice = random.randrange(1,p_primo)\n",
    "\n",
    "    clave_publica_Alice = exponencia_modular(n_primo, clave_privada_Alice, p_primo)\n",
    "    print(f\"\\nEl mensaje de Alice a Bob es {clave_publica_Alice}\")\n",
    "\n",
    "    clave_privada_Bob = random.randrange(1,p_primo)\n",
    "\n",
    "    clave_publica_Bob = exponencia_modular(n_primo, clave_privada_Bob, p_primo)\n",
    "    print(f\"El mensaje de Bob a Alice es {clave_publica_Bob}\")\n",
    "\n",
    "    clave_mensaje_Alice = exponencia_modular(clave_publica_Bob, clave_privada_Alice, p_primo)\n",
    "\n",
    "    clave_mensaje_Bob = exponencia_modular(clave_publica_Alice, clave_privada_Bob, p_primo)\n",
    "\n",
    "    print(f\"\\nLas clave del mensaje en ambos lados es igual == {clave_mensaje_Bob == clave_mensaje_Alice}\")\n",
    "    print(f\"La clave == {clave_mensaje_Alice} = {clave_mensaje_Bob}\")\n",
    "    \n",
    "\n"
   ]
  },
  {
   "cell_type": "markdown",
   "id": "34853225",
   "metadata": {},
   "source": [
    "Implementación del procedimiento Diffie-Hellman. Ejemplo abajo:"
   ]
  },
  {
   "cell_type": "code",
   "execution_count": 25,
   "id": "e4137c95",
   "metadata": {},
   "outputs": [
    {
     "name": "stdout",
     "output_type": "stream",
     "text": [
      "El valor de p = 191010899 \n",
      "El valor de la base = 13134487\n",
      "\n",
      "El mensaje de Alice a Bob es 60672810\n",
      "El mensaje de Bob a Alice es 136658882\n",
      "\n",
      "Las clave del mensaje en ambos lados es igual == True\n",
      "La clave == 76608323 = 76608323\n"
     ]
    }
   ],
   "source": [
    "diffie_hellman()"
   ]
  }
 ],
 "metadata": {
  "kernelspec": {
   "display_name": "Python 3",
   "language": "python",
   "name": "python3"
  },
  "language_info": {
   "codemirror_mode": {
    "name": "ipython",
    "version": 3
   },
   "file_extension": ".py",
   "mimetype": "text/x-python",
   "name": "python",
   "nbconvert_exporter": "python",
   "pygments_lexer": "ipython3",
   "version": "3.10.6"
  }
 },
 "nbformat": 4,
 "nbformat_minor": 5
}
